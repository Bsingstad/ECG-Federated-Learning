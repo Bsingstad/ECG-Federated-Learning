{
  "nbformat": 4,
  "nbformat_minor": 0,
  "metadata": {
    "accelerator": "GPU",
    "colab": {
      "provenance": [],
      "machine_shape": "hm"
    },
    "kernelspec": {
      "display_name": "Python 3",
      "name": "python3"
    }
  },
  "cells": [
    {
      "cell_type": "markdown",
      "metadata": {
        "id": "LceH0DYvd9bW"
      },
      "source": [
        "#Step 1: Import Kaggle Dataset"
      ]
    },
    {
      "cell_type": "code",
      "metadata": {
        "colab": {
          "base_uri": "https://localhost:8080/"
        },
        "id": "NHpUgjVmZhme",
        "outputId": "0220c444-80be-4ec4-b4c1-63135e3d048c"
      },
      "source": [
        "!pip install wfdb wget"
      ],
      "execution_count": 1,
      "outputs": [
        {
          "output_type": "stream",
          "name": "stdout",
          "text": [
            "Collecting wfdb\n",
            "  Downloading wfdb-4.1.2-py3-none-any.whl (159 kB)\n",
            "\u001b[?25l     \u001b[90m━━━━━━━━━━━━━━━━━━━━━━━━━━━━━━━━━━━━━━━━\u001b[0m \u001b[32m0.0/160.0 kB\u001b[0m \u001b[31m?\u001b[0m eta \u001b[36m-:--:--\u001b[0m\r\u001b[2K     \u001b[91m━━━━━━━━━━━━━━━━━━━━━━━━━━━━━━\u001b[0m\u001b[91m╸\u001b[0m\u001b[90m━━━━━━━━━\u001b[0m \u001b[32m122.9/160.0 kB\u001b[0m \u001b[31m3.6 MB/s\u001b[0m eta \u001b[36m0:00:01\u001b[0m\r\u001b[2K     \u001b[90m━━━━━━━━━━━━━━━━━━━━━━━━━━━━━━━━━━━━━━━━\u001b[0m \u001b[32m160.0/160.0 kB\u001b[0m \u001b[31m3.1 MB/s\u001b[0m eta \u001b[36m0:00:00\u001b[0m\n",
            "\u001b[?25hCollecting wget\n",
            "  Downloading wget-3.2.zip (10 kB)\n",
            "  Preparing metadata (setup.py) ... \u001b[?25l\u001b[?25hdone\n",
            "Requirement already satisfied: SoundFile>=0.10.0 in /usr/local/lib/python3.10/dist-packages (from wfdb) (0.12.1)\n",
            "Requirement already satisfied: matplotlib>=3.2.2 in /usr/local/lib/python3.10/dist-packages (from wfdb) (3.7.1)\n",
            "Requirement already satisfied: numpy>=1.10.1 in /usr/local/lib/python3.10/dist-packages (from wfdb) (1.25.2)\n",
            "Requirement already satisfied: pandas>=1.3.0 in /usr/local/lib/python3.10/dist-packages (from wfdb) (2.0.3)\n",
            "Requirement already satisfied: requests>=2.8.1 in /usr/local/lib/python3.10/dist-packages (from wfdb) (2.31.0)\n",
            "Requirement already satisfied: scipy>=1.0.0 in /usr/local/lib/python3.10/dist-packages (from wfdb) (1.11.4)\n",
            "Requirement already satisfied: contourpy>=1.0.1 in /usr/local/lib/python3.10/dist-packages (from matplotlib>=3.2.2->wfdb) (1.2.1)\n",
            "Requirement already satisfied: cycler>=0.10 in /usr/local/lib/python3.10/dist-packages (from matplotlib>=3.2.2->wfdb) (0.12.1)\n",
            "Requirement already satisfied: fonttools>=4.22.0 in /usr/local/lib/python3.10/dist-packages (from matplotlib>=3.2.2->wfdb) (4.53.0)\n",
            "Requirement already satisfied: kiwisolver>=1.0.1 in /usr/local/lib/python3.10/dist-packages (from matplotlib>=3.2.2->wfdb) (1.4.5)\n",
            "Requirement already satisfied: packaging>=20.0 in /usr/local/lib/python3.10/dist-packages (from matplotlib>=3.2.2->wfdb) (24.0)\n",
            "Requirement already satisfied: pillow>=6.2.0 in /usr/local/lib/python3.10/dist-packages (from matplotlib>=3.2.2->wfdb) (9.4.0)\n",
            "Requirement already satisfied: pyparsing>=2.3.1 in /usr/local/lib/python3.10/dist-packages (from matplotlib>=3.2.2->wfdb) (3.1.2)\n",
            "Requirement already satisfied: python-dateutil>=2.7 in /usr/local/lib/python3.10/dist-packages (from matplotlib>=3.2.2->wfdb) (2.8.2)\n",
            "Requirement already satisfied: pytz>=2020.1 in /usr/local/lib/python3.10/dist-packages (from pandas>=1.3.0->wfdb) (2023.4)\n",
            "Requirement already satisfied: tzdata>=2022.1 in /usr/local/lib/python3.10/dist-packages (from pandas>=1.3.0->wfdb) (2024.1)\n",
            "Requirement already satisfied: charset-normalizer<4,>=2 in /usr/local/lib/python3.10/dist-packages (from requests>=2.8.1->wfdb) (3.3.2)\n",
            "Requirement already satisfied: idna<4,>=2.5 in /usr/local/lib/python3.10/dist-packages (from requests>=2.8.1->wfdb) (3.7)\n",
            "Requirement already satisfied: urllib3<3,>=1.21.1 in /usr/local/lib/python3.10/dist-packages (from requests>=2.8.1->wfdb) (2.0.7)\n",
            "Requirement already satisfied: certifi>=2017.4.17 in /usr/local/lib/python3.10/dist-packages (from requests>=2.8.1->wfdb) (2024.6.2)\n",
            "Requirement already satisfied: cffi>=1.0 in /usr/local/lib/python3.10/dist-packages (from SoundFile>=0.10.0->wfdb) (1.16.0)\n",
            "Requirement already satisfied: pycparser in /usr/local/lib/python3.10/dist-packages (from cffi>=1.0->SoundFile>=0.10.0->wfdb) (2.22)\n",
            "Requirement already satisfied: six>=1.5 in /usr/local/lib/python3.10/dist-packages (from python-dateutil>=2.7->matplotlib>=3.2.2->wfdb) (1.16.0)\n",
            "Building wheels for collected packages: wget\n",
            "  Building wheel for wget (setup.py) ... \u001b[?25l\u001b[?25hdone\n",
            "  Created wheel for wget: filename=wget-3.2-py3-none-any.whl size=9656 sha256=2a635d6250bed8c411fef8353bc9b6fcf00b8a15dd7e3bd467a3d0f6fcca3774\n",
            "  Stored in directory: /root/.cache/pip/wheels/8b/f1/7f/5c94f0a7a505ca1c81cd1d9208ae2064675d97582078e6c769\n",
            "Successfully built wget\n",
            "Installing collected packages: wget, wfdb\n",
            "Successfully installed wfdb-4.1.2 wget-3.2\n"
          ]
        }
      ]
    },
    {
      "cell_type": "code",
      "metadata": {
        "id": "02UxjZbnFRwC"
      },
      "source": [
        "!pip install -q kaggle"
      ],
      "execution_count": 2,
      "outputs": []
    },
    {
      "cell_type": "code",
      "metadata": {
        "colab": {
          "base_uri": "https://localhost:8080/"
        },
        "id": "Ls2UQcuoFUoz",
        "outputId": "bfaff7e0-1f2c-42ec-9f57-514c27d07fca"
      },
      "source": [
        "!mkdir -p ~/.kaggle\n",
        "!cp kaggle.json ~/.kaggle/\n",
        "!ls ~/.kaggle\n",
        "!chmod 600 /root/.kaggle/kaggle.json"
      ],
      "execution_count": 3,
      "outputs": [
        {
          "output_type": "stream",
          "name": "stdout",
          "text": [
            "kaggle.json\n"
          ]
        }
      ]
    },
    {
      "cell_type": "code",
      "source": [
        "from google.colab import drive\n",
        "drive.mount('/content/drive')"
      ],
      "metadata": {
        "colab": {
          "base_uri": "https://localhost:8080/"
        },
        "id": "NEUrLq2llT1i",
        "outputId": "a4d3e3b3-3d75-4c11-e5fe-9f69cf9f2e3a"
      },
      "execution_count": 38,
      "outputs": [
        {
          "output_type": "stream",
          "name": "stdout",
          "text": [
            "Mounted at /content/drive\n"
          ]
        }
      ]
    },
    {
      "cell_type": "code",
      "metadata": {
        "colab": {
          "base_uri": "https://localhost:8080/"
        },
        "id": "ZYvFpr3_Fbxy",
        "outputId": "74b65e64-f71e-4e0f-fc4f-2083f76d6d33"
      },
      "source": [
        "!kaggle datasets download -d bjoernjostein/georgia-12lead-ecg-challenge-database"
      ],
      "execution_count": 4,
      "outputs": [
        {
          "output_type": "stream",
          "name": "stdout",
          "text": [
            "Dataset URL: https://www.kaggle.com/datasets/bjoernjostein/georgia-12lead-ecg-challenge-database\n",
            "License(s): CC0-1.0\n",
            "Downloading georgia-12lead-ecg-challenge-database.zip to /content\n",
            " 96% 464M/483M [00:03<00:00, 127MB/s]\n",
            "100% 483M/483M [00:03<00:00, 136MB/s]\n"
          ]
        }
      ]
    },
    {
      "cell_type": "code",
      "metadata": {
        "colab": {
          "base_uri": "https://localhost:8080/"
        },
        "id": "i6z9N1N-Fejq",
        "outputId": "999abab5-ab99-401d-f243-b2c38cd60b40"
      },
      "source": [
        "!kaggle datasets download -d bjoernjostein/st-petersburg-incart-12lead-arrhythmia-database"
      ],
      "execution_count": 5,
      "outputs": [
        {
          "output_type": "stream",
          "name": "stdout",
          "text": [
            "Dataset URL: https://www.kaggle.com/datasets/bjoernjostein/st-petersburg-incart-12lead-arrhythmia-database\n",
            "License(s): ODC Attribution License (ODC-By)\n",
            "Downloading st-petersburg-incart-12lead-arrhythmia-database.zip to /content\n",
            " 99% 561M/564M [00:05<00:00, 75.0MB/s]\n",
            "100% 564M/564M [00:05<00:00, 99.5MB/s]\n"
          ]
        }
      ]
    },
    {
      "cell_type": "code",
      "metadata": {
        "colab": {
          "base_uri": "https://localhost:8080/"
        },
        "id": "Eh6rvtI3FhtZ",
        "outputId": "c593e105-b015-4518-fd40-e53de0784b5a"
      },
      "source": [
        "!kaggle datasets download -d bjoernjostein/ptbxl-electrocardiography-database"
      ],
      "execution_count": 6,
      "outputs": [
        {
          "output_type": "stream",
          "name": "stdout",
          "text": [
            "Dataset URL: https://www.kaggle.com/datasets/bjoernjostein/ptbxl-electrocardiography-database\n",
            "License(s): ODC Attribution License (ODC-By)\n",
            "Downloading ptbxl-electrocardiography-database.zip to /content\n",
            "100% 1.35G/1.35G [00:11<00:00, 159MB/s]\n",
            "100% 1.35G/1.35G [00:11<00:00, 122MB/s]\n"
          ]
        }
      ]
    },
    {
      "cell_type": "code",
      "metadata": {
        "colab": {
          "base_uri": "https://localhost:8080/"
        },
        "id": "nQ10o4CbFl5P",
        "outputId": "26ab643c-54ee-4787-c3a1-ad765bfb25a7"
      },
      "source": [
        "!kaggle datasets download -d bjoernjostein/ptb-diagnostic-ecg-database"
      ],
      "execution_count": 7,
      "outputs": [
        {
          "output_type": "stream",
          "name": "stdout",
          "text": [
            "Dataset URL: https://www.kaggle.com/datasets/bjoernjostein/ptb-diagnostic-ecg-database\n",
            "License(s): CC0-1.0\n",
            "Downloading ptb-diagnostic-ecg-database.zip to /content\n",
            " 99% 881M/890M [00:08<00:00, 121MB/s]\n",
            "100% 890M/890M [00:08<00:00, 109MB/s]\n"
          ]
        }
      ]
    },
    {
      "cell_type": "code",
      "metadata": {
        "colab": {
          "base_uri": "https://localhost:8080/"
        },
        "id": "ubNpillvF-7I",
        "outputId": "7d0f9875-d3be-4625-d190-a8dfbfa8f383"
      },
      "source": [
        "!kaggle datasets download -d bjoernjostein/china-12lead-ecg-challenge-database"
      ],
      "execution_count": 8,
      "outputs": [
        {
          "output_type": "stream",
          "name": "stdout",
          "text": [
            "Dataset URL: https://www.kaggle.com/datasets/bjoernjostein/china-12lead-ecg-challenge-database\n",
            "License(s): CC0-1.0\n",
            "Downloading china-12lead-ecg-challenge-database.zip to /content\n",
            " 95% 387M/406M [00:02<00:00, 233MB/s]\n",
            "100% 406M/406M [00:02<00:00, 197MB/s]\n"
          ]
        }
      ]
    },
    {
      "cell_type": "code",
      "metadata": {
        "colab": {
          "base_uri": "https://localhost:8080/"
        },
        "id": "fah_ygLLF9si",
        "outputId": "3eb848d3-5f87-46f3-94a3-1319465290bd"
      },
      "source": [
        "!kaggle datasets download -d bjoernjostein/china-physiological-signal-challenge-in-2018"
      ],
      "execution_count": 9,
      "outputs": [
        {
          "output_type": "stream",
          "name": "stdout",
          "text": [
            "Dataset URL: https://www.kaggle.com/datasets/bjoernjostein/china-physiological-signal-challenge-in-2018\n",
            "License(s): CC0-1.0\n",
            "Downloading china-physiological-signal-challenge-in-2018.zip to /content\n",
            " 99% 814M/824M [00:08<00:00, 87.9MB/s]\n",
            "100% 824M/824M [00:08<00:00, 99.1MB/s]\n"
          ]
        }
      ]
    },
    {
      "cell_type": "code",
      "metadata": {
        "colab": {
          "base_uri": "https://localhost:8080/"
        },
        "id": "97k_KiGBy1Lf",
        "outputId": "7211cd6f-d86d-4670-ee6d-380e86504520"
      },
      "source": [
        "!kaggle datasets download -d bjoernjostein/physionet-challenge-2021-snomed-mappings"
      ],
      "execution_count": 10,
      "outputs": [
        {
          "output_type": "stream",
          "name": "stdout",
          "text": [
            "Dataset URL: https://www.kaggle.com/datasets/bjoernjostein/physionet-challenge-2021-snomed-mappings\n",
            "License(s): unknown\n",
            "Downloading physionet-challenge-2021-snomed-mappings.zip to /content\n",
            "\r  0% 0.00/4.13k [00:00<?, ?B/s]\n",
            "\r100% 4.13k/4.13k [00:00<00:00, 13.6MB/s]\n"
          ]
        }
      ]
    },
    {
      "cell_type": "code",
      "metadata": {
        "colab": {
          "base_uri": "https://localhost:8080/"
        },
        "id": "ZN4z9mZ03B6i",
        "outputId": "4a0bec3d-786c-455d-cfb2-9fffa3b06d90"
      },
      "source": [
        "!kaggle datasets download -d erarayamorenzomuten/chapmanshaoxing-12lead-ecg-database"
      ],
      "execution_count": 11,
      "outputs": [
        {
          "output_type": "stream",
          "name": "stdout",
          "text": [
            "Dataset URL: https://www.kaggle.com/datasets/erarayamorenzomuten/chapmanshaoxing-12lead-ecg-database\n",
            "License(s): Attribution 4.0 International (CC BY 4.0)\n",
            "Downloading chapmanshaoxing-12lead-ecg-database.zip to /content\n",
            " 98% 538M/547M [00:04<00:00, 56.1MB/s]\n",
            "100% 547M/547M [00:04<00:00, 116MB/s] \n"
          ]
        }
      ]
    },
    {
      "cell_type": "code",
      "metadata": {
        "colab": {
          "base_uri": "https://localhost:8080/"
        },
        "id": "yd2_OBF83H3B",
        "outputId": "183fd27e-46ac-48c8-8836-d47e749a2ff3"
      },
      "source": [
        "!kaggle datasets download -d erarayamorenzomuten/ningbo-first-hospital-12lead-ecg-database"
      ],
      "execution_count": 12,
      "outputs": [
        {
          "output_type": "stream",
          "name": "stdout",
          "text": [
            "Dataset URL: https://www.kaggle.com/datasets/erarayamorenzomuten/ningbo-first-hospital-12lead-ecg-database\n",
            "License(s): Attribution 4.0 International (CC BY 4.0)\n",
            "Downloading ningbo-first-hospital-12lead-ecg-database.zip to /content\n",
            " 99% 1.77G/1.78G [00:16<00:00, 125MB/s]\n",
            "100% 1.78G/1.78G [00:16<00:00, 114MB/s]\n"
          ]
        }
      ]
    },
    {
      "cell_type": "markdown",
      "metadata": {
        "id": "XBce-xqVeY9q"
      },
      "source": [
        "#Step 2: Load Data"
      ]
    },
    {
      "cell_type": "code",
      "metadata": {
        "id": "V-bIBSr6GMjJ"
      },
      "source": [
        "import os, zipfile\n",
        "\n",
        "dir_name = \"./\"\n",
        "extension = \".zip\"\n",
        "\n",
        "os.chdir(dir_name) # change directory from working dir to dir with files\n",
        "\n",
        "for item in os.listdir(dir_name): # loop through items in dir\n",
        "    if item.endswith(extension): # check for \".zip\" extension\n",
        "        file_name = os.path.abspath(item) # get full path of files\n",
        "        zip_ref = zipfile.ZipFile(file_name) # create zipfile object\n",
        "        zip_ref.extractall(dir_name) # extract file to dir\n",
        "        zip_ref.close() # close file\n",
        "        os.remove(file_name) # delete zipped file"
      ],
      "execution_count": 13,
      "outputs": []
    },
    {
      "cell_type": "code",
      "metadata": {
        "id": "L7Znt-5GdNGs"
      },
      "source": [
        "# Merge china physiol and china physiol extra\n",
        "import shutil\n",
        "import os\n",
        "\n",
        "source = 'Training_2/'\n",
        "dest1 = 'Training_WFDB/'\n",
        "\n",
        "files = os.listdir(source)\n",
        "\n",
        "for f in files:\n",
        "    shutil.move(source+f, dest1)"
      ],
      "execution_count": 14,
      "outputs": []
    },
    {
      "cell_type": "code",
      "source": [
        "shutil.rmtree(\"./sample_data/\")"
      ],
      "metadata": {
        "id": "PtC6Tu9sNazz"
      },
      "execution_count": 15,
      "outputs": []
    },
    {
      "cell_type": "markdown",
      "metadata": {
        "id": "E8oWe0PGyurE"
      },
      "source": [
        "#Step 3: Packages and Functions"
      ]
    },
    {
      "cell_type": "markdown",
      "metadata": {
        "id": "mg-r5AEMz24A"
      },
      "source": [
        "##Loading some packages and defining a function to load data"
      ]
    },
    {
      "cell_type": "code",
      "metadata": {
        "id": "76yCroFyfDgN"
      },
      "source": [
        "import os\n",
        "import numpy as np, sys,os\n",
        "import pandas as pd\n",
        "import matplotlib.pyplot as plt\n",
        "import seaborn as sns\n",
        "from scipy.io import loadmat\n",
        "import wfdb\n",
        "import tarfile\n",
        "import wget\n",
        "from sklearn.preprocessing import MultiLabelBinarizer\n",
        "from sklearn.model_selection import StratifiedKFold\n",
        "from keras.preprocessing.sequence import pad_sequences\n",
        "import math\n",
        "import warnings\n",
        "from scipy import signal\n",
        "import random\n",
        "import tqdm\n",
        "import time\n",
        "from scipy.signal import butter, lfilter\n",
        "from scipy.signal import find_peaks\n",
        "from sklearn.metrics import accuracy_score\n",
        "\n",
        "%load_ext autoreload\n",
        "%autoreload\n",
        "%reload_ext autoreload"
      ],
      "execution_count": 16,
      "outputs": []
    },
    {
      "cell_type": "code",
      "metadata": {
        "id": "FpTotO2OiGf1"
      },
      "source": [
        "def load_challenge_data(filename):\n",
        "    x = loadmat(filename)\n",
        "    data = np.asarray(x['val'], dtype=np.float64)\n",
        "    new_file = filename.replace('.mat','.hea')\n",
        "    input_header_file = os.path.join(new_file)\n",
        "    with open(input_header_file,'r') as f:\n",
        "        header_data=f.readlines()\n",
        "    return data, header_data"
      ],
      "execution_count": 17,
      "outputs": []
    },
    {
      "cell_type": "markdown",
      "metadata": {
        "id": "ykxnqgqZ3prl"
      },
      "source": [
        "#Data"
      ]
    },
    {
      "cell_type": "markdown",
      "metadata": {
        "id": "naTubrbg3rvR"
      },
      "source": [
        "\n",
        "The training data in this study contains 43.101 Electrocariographic recordings from 5 different sources.\n",
        "\n",
        "\n",
        "\n",
        "1. Southeast University, China, including the data from the China Physiological Signal Challenge 2018 (2 datasets from this source)\n",
        "2. St. Petersburg Institute of Cardiological Technics, St. Petersburg, Russia.\n",
        "3. The Physikalisch Technische Bundesanstalt, Brunswick, Germany. (2 datasets from this source)\n",
        "4. Georgia 12-Lead ECG Challenge Database, Emory University, Atlanta, Georgia, USA.\n",
        "5. Shaoxing and Ningbi Hospital, China\n",
        "\n",
        "The data is given in the form of native Python waveform-database-format WFDB. The dataset contains two file types:\n",
        "\n",
        "1. Header files (.hea)\n",
        "2. Signal files (.mat)\n",
        "\n",
        "We have ca 88 000 Signal file with a corresponding header file. Each file are named with a patient number starting with A0001 and goes all the way up to A6877\n"
      ]
    },
    {
      "cell_type": "markdown",
      "metadata": {
        "id": "GvFRN6YJz_QZ"
      },
      "source": [
        "##Import all diagnosis to Notebook"
      ]
    },
    {
      "cell_type": "code",
      "source": [
        "my_dirs = ['WFDB_ChapmanShaoxing',  'Georgia', 'Training_StPetersburg', 'WFDB_Ningbo', 'Training_WFDB', 'Training_PTB']"
      ],
      "metadata": {
        "id": "xOYXVl54N39T"
      },
      "execution_count": 18,
      "outputs": []
    },
    {
      "cell_type": "code",
      "source": [
        "ecg_filenames = []\n",
        "for directory in my_dirs:\n",
        "  current_path = os.path.join(\"./\", directory)\n",
        "  for ecgfilename in tqdm.tqdm(sorted(os.listdir(current_path))):\n",
        "      if ecgfilename.endswith(\".mat\"):\n",
        "          ecg_filenames.append(os.path.join(current_path, ecgfilename))\n"
      ],
      "metadata": {
        "colab": {
          "base_uri": "https://localhost:8080/"
        },
        "id": "bn1BKHViOTxB",
        "outputId": "bcd91c9b-1d3d-482d-cd1c-ff7699988cbd"
      },
      "execution_count": 19,
      "outputs": [
        {
          "output_type": "stream",
          "name": "stderr",
          "text": [
            "100%|██████████| 20494/20494 [00:00<00:00, 1083591.54it/s]\n",
            "100%|██████████| 20688/20688 [00:00<00:00, 1124423.50it/s]\n",
            "100%|██████████| 148/148 [00:00<00:00, 517728.93it/s]\n",
            "100%|██████████| 69810/69810 [00:00<00:00, 986221.94it/s]\n",
            "100%|██████████| 20660/20660 [00:00<00:00, 948472.24it/s]\n",
            "100%|██████████| 1032/1032 [00:00<00:00, 912997.62it/s]\n"
          ]
        }
      ]
    },
    {
      "cell_type": "code",
      "source": [
        "len(ecg_filenames)"
      ],
      "metadata": {
        "colab": {
          "base_uri": "https://localhost:8080/"
        },
        "id": "Ag2eM-8gPpX5",
        "outputId": "e64308dd-3538-4e27-8e70-234c5b06c6c4"
      },
      "execution_count": 20,
      "outputs": [
        {
          "output_type": "execute_result",
          "data": {
            "text/plain": [
              "66416"
            ]
          },
          "metadata": {},
          "execution_count": 20
        }
      ]
    },
    {
      "cell_type": "code",
      "metadata": {
        "id": "zBEeN7JNqawV"
      },
      "source": [
        "def load_header(header_file):\n",
        "    with open(header_file, 'r') as f:\n",
        "        header = f.read()\n",
        "    return header\n",
        "\n",
        "def get_labels(header):\n",
        "    labels = list()\n",
        "    for l in header.split('\\n'):\n",
        "        if l.startswith('#Dx'):\n",
        "            try:\n",
        "                entries = l.split(': ')[1].split(',')\n",
        "                for entry in entries:\n",
        "                    labels.append(entry.strip())\n",
        "            except:\n",
        "                pass\n",
        "    return labels\n",
        "\n",
        "def is_integer(x):\n",
        "    if is_number(x):\n",
        "        return float(x).is_integer()\n",
        "    else:\n",
        "        return False\n",
        "\n",
        "def is_number(x):\n",
        "  try:\n",
        "      float(x)\n",
        "      return True\n",
        "  except (ValueError, TypeError):\n",
        "      return False"
      ],
      "execution_count": 21,
      "outputs": []
    },
    {
      "cell_type": "code",
      "metadata": {
        "colab": {
          "base_uri": "https://localhost:8080/"
        },
        "id": "cTWNzqz8pvAd",
        "outputId": "fed0670d-087f-450b-80ae-8dee6753d739"
      },
      "source": [
        "classes = set()\n",
        "for ecg_file in tqdm.tqdm(ecg_filenames):\n",
        "  header_file = ecg_file.replace('.mat','.hea')\n",
        "  header = load_header(header_file)\n",
        "  classes |= set(get_labels(header))\n",
        "if all(is_integer(x) for x in classes):\n",
        "    classes = sorted(classes, key=lambda x: int(x)) # Sort classes numerically if numbers.\n",
        "else:\n",
        "    classes = sorted(classes) # Sort classes alphanumerically if not numbers.\n",
        "num_classes = len(classes)"
      ],
      "execution_count": 22,
      "outputs": [
        {
          "output_type": "stream",
          "name": "stderr",
          "text": [
            "100%|██████████| 66416/66416 [00:01<00:00, 40441.93it/s]\n"
          ]
        }
      ]
    },
    {
      "cell_type": "code",
      "source": [
        "num_classes"
      ],
      "metadata": {
        "colab": {
          "base_uri": "https://localhost:8080/"
        },
        "id": "csHjS6BcQEK-",
        "outputId": "855f1d7e-9a97-4e60-ccf4-67ad29888ddf"
      },
      "execution_count": 23,
      "outputs": [
        {
          "output_type": "execute_result",
          "data": {
            "text/plain": [
              "131"
            ]
          },
          "metadata": {},
          "execution_count": 23
        }
      ]
    },
    {
      "cell_type": "code",
      "metadata": {
        "id": "QF-nFSEUq4I6"
      },
      "source": [
        "SNOMED_scored=pd.read_csv(\"dx_mapping_scored.csv\", sep=\",\")\n",
        "lab_arr = np.asarray(SNOMED_scored['SNOMEDCTCode'], dtype=\"str\")\n",
        "scored_classes = []\n",
        "for i in classes:\n",
        "  for j in lab_arr:\n",
        "    if i == '':\n",
        "      continue\n",
        "    if i == j:\n",
        "      scored_classes.append(i)\n",
        "scored_classes = sorted(scored_classes)"
      ],
      "execution_count": 24,
      "outputs": []
    },
    {
      "cell_type": "code",
      "source": [
        "len(scored_classes)"
      ],
      "metadata": {
        "colab": {
          "base_uri": "https://localhost:8080/"
        },
        "id": "dZ0imnZRQOF9",
        "outputId": "896a65b4-e8be-48f7-e8dd-df9c92fca158"
      },
      "execution_count": 25,
      "outputs": [
        {
          "output_type": "execute_result",
          "data": {
            "text/plain": [
              "30"
            ]
          },
          "metadata": {},
          "execution_count": 25
        }
      ]
    },
    {
      "cell_type": "code",
      "source": [
        "def get_labels_internal(header):\n",
        "    labels = list()\n",
        "    for l in header:\n",
        "        if l.startswith('#Dx'):\n",
        "            try:\n",
        "                entries = l.split(': ')[1].split(',')\n",
        "                for entry in entries:\n",
        "                    labels.append(entry.strip())\n",
        "            except:\n",
        "                pass\n",
        "    return labels"
      ],
      "metadata": {
        "id": "ujOClvZTgUuX"
      },
      "execution_count": 26,
      "outputs": []
    },
    {
      "cell_type": "code",
      "source": [
        "def get_scored_ohe_labels(diagnoses, scored_classes):\n",
        "  num_classes = len(scored_classes)\n",
        "  labels = np.zeros(num_classes)\n",
        "  for diagnose in diagnoses:\n",
        "    if diagnose in scored_classes:\n",
        "      j = scored_classes.index(diagnose)\n",
        "      labels[j] = 1\n",
        "  return labels"
      ],
      "metadata": {
        "id": "g9KcWI-HXzyW"
      },
      "execution_count": 27,
      "outputs": []
    },
    {
      "cell_type": "code",
      "source": [
        "def pad_and_resample(ecg_data, header_data, new_fs = 100):\n",
        "  current_len = int(header_data[0].split(\" \")[3])\n",
        "  current_fs = int(header_data[0].split(\" \")[2])\n",
        "  if current_len//current_fs != 10:\n",
        "    ecg_padded = pad_sequences(ecg_data, maxlen=int(current_fs * 10), truncating='post',padding=\"post\")\n",
        "  else:\n",
        "    ecg_padded = ecg_data\n",
        "\n",
        "  if current_fs != new_fs:\n",
        "    rsmp_ecg = signal.resample(ecg_padded, 10 *new_fs, axis = 1)\n",
        "  else:\n",
        "    rsmp_ecg = ecg_padded\n",
        "\n",
        "  return np.moveaxis(rsmp_ecg, 1, -1)"
      ],
      "metadata": {
        "id": "VVzlLMWsctEL"
      },
      "execution_count": 28,
      "outputs": []
    },
    {
      "cell_type": "code",
      "source": [
        "def resample_and_pad(ecg_data, header_data, new_fs = 100):\n",
        "  if int(header_data[0].split(\" \")[2]) != new_fs:\n",
        "    rsmp_ecg = signal.resample(ecg_data, int((int(header_data[0].split(\" \")[3])/int(header_data[0].split(\" \")[2]))*new_fs))\n",
        "  else:\n",
        "    rsmp_ecg = ecg_data\n",
        "\n",
        "  if rsmp_ecg.shape[1] != int(new_fs * 10):\n",
        "    ecg_padded = pad_sequences(rsmp_ecg, maxlen=int(new_fs * 10), truncating='post',padding=\"post\")\n",
        "  else:\n",
        "    ecg_padded = rsmp_ecg\n",
        "  return np.moveaxis(ecg_padded, 1, -1)"
      ],
      "metadata": {
        "id": "oQ6RgvjSSGek"
      },
      "execution_count": 29,
      "outputs": []
    },
    {
      "cell_type": "code",
      "source": [
        "def label_data_and_save_npy(path, scored_classes, dest_path, name):\n",
        "  label_list = []\n",
        "  ecg_list = []\n",
        "  for ecgfilename in tqdm.tqdm(sorted(os.listdir(path))):\n",
        "    if ecgfilename.endswith(\".mat\"):\n",
        "      data, header_data = load_challenge_data(path + ecgfilename)\n",
        "      processed_data = pad_and_resample(data, header_data)\n",
        "      temp_labels = get_labels_internal(header_data)\n",
        "      labels = get_scored_ohe_labels(temp_labels, scored_classes)\n",
        "      label_list.append(labels)\n",
        "      ecg_list.append(processed_data)\n",
        "  label_list = np.asarray(label_list)\n",
        "  ecg_list = np.asarray(ecg_list)\n",
        "  np.save(os.path.join(dest_path, \"X_data_\" + name), ecg_list)\n",
        "  np.save(os.path.join(dest_path, \"y_data_\" + name), label_list)\n"
      ],
      "metadata": {
        "id": "NDTcNrw-RgYJ"
      },
      "execution_count": 43,
      "outputs": []
    },
    {
      "cell_type": "code",
      "source": [
        "dest_path = '../../content/drive/MyDrive/fdl_ecg_data/'"
      ],
      "metadata": {
        "id": "K99odyatl9-E"
      },
      "execution_count": 44,
      "outputs": []
    },
    {
      "cell_type": "code",
      "source": [
        "os.mkdir(dest_path)"
      ],
      "metadata": {
        "id": "Z6atsDRllY4h"
      },
      "execution_count": 42,
      "outputs": []
    },
    {
      "cell_type": "code",
      "source": [
        "label_data_and_save_npy(\"/content/WFDB_Ningbo/\", scored_classes, dest_path, \"ningbo\")"
      ],
      "metadata": {
        "colab": {
          "base_uri": "https://localhost:8080/"
        },
        "id": "bBtaBrW1XwP3",
        "outputId": "59e9f90c-cdcc-4419-9433-a70b4a85bae5"
      },
      "execution_count": 45,
      "outputs": [
        {
          "output_type": "stream",
          "name": "stderr",
          "text": [
            "100%|██████████| 69810/69810 [00:30<00:00, 2262.75it/s]\n"
          ]
        }
      ]
    },
    {
      "cell_type": "code",
      "source": [
        "label_data_and_save_npy(\"/content/WFDB_ChapmanShaoxing/\", scored_classes, dest_path,\"chapman\")"
      ],
      "metadata": {
        "colab": {
          "base_uri": "https://localhost:8080/"
        },
        "id": "pNh5uLjme8Be",
        "outputId": "71225980-e508-431c-a384-91d3704cdec1"
      },
      "execution_count": 46,
      "outputs": [
        {
          "output_type": "stream",
          "name": "stderr",
          "text": [
            "100%|██████████| 20494/20494 [00:28<00:00, 723.80it/s]\n"
          ]
        }
      ]
    },
    {
      "cell_type": "code",
      "source": [
        "label_data_and_save_npy(\"/content/Georgia/\", scored_classes, dest_path, \"georgia\")"
      ],
      "metadata": {
        "colab": {
          "base_uri": "https://localhost:8080/"
        },
        "id": "B50iCaeFhX3D",
        "outputId": "d9499a4a-205b-4832-aad4-3ba7e405f205"
      },
      "execution_count": 47,
      "outputs": [
        {
          "output_type": "stream",
          "name": "stderr",
          "text": [
            "100%|██████████| 20688/20688 [00:13<00:00, 1520.06it/s]\n"
          ]
        }
      ]
    },
    {
      "cell_type": "code",
      "source": [
        "label_data_and_save_npy(\"/content/WFDB/\", scored_classes, dest_path, \"ptbxl\")"
      ],
      "metadata": {
        "colab": {
          "base_uri": "https://localhost:8080/"
        },
        "id": "A-lPAblUhe-s",
        "outputId": "b5505906-25e3-45a3-f35e-a09beffc31c4"
      },
      "execution_count": 48,
      "outputs": [
        {
          "output_type": "stream",
          "name": "stderr",
          "text": [
            "100%|██████████| 43674/43674 [00:38<00:00, 1148.86it/s]\n"
          ]
        }
      ]
    },
    {
      "cell_type": "code",
      "source": [
        "label_data_and_save_npy(\"/content/Training_StPetersburg/\", scored_classes, dest_path, \"stpeter\")"
      ],
      "metadata": {
        "colab": {
          "base_uri": "https://localhost:8080/"
        },
        "id": "qd3xz4uEjFhD",
        "outputId": "d583fd56-d6eb-4aae-eacf-e75cf50a9d2d"
      },
      "execution_count": 49,
      "outputs": [
        {
          "output_type": "stream",
          "name": "stderr",
          "text": [
            "100%|██████████| 148/148 [00:05<00:00, 28.07it/s]\n"
          ]
        }
      ]
    },
    {
      "cell_type": "code",
      "source": [
        "label_data_and_save_npy(\"/content/Training_WFDB/\", scored_classes, dest_path, \"chinaphys\")"
      ],
      "metadata": {
        "colab": {
          "base_uri": "https://localhost:8080/"
        },
        "id": "pv_5p9Y9jGQs",
        "outputId": "6c5da731-f676-4f2f-f768-79f8cfabed5d"
      },
      "execution_count": 50,
      "outputs": [
        {
          "output_type": "stream",
          "name": "stderr",
          "text": [
            "100%|██████████| 20660/20660 [00:25<00:00, 819.84it/s] \n"
          ]
        }
      ]
    },
    {
      "cell_type": "code",
      "source": [
        "label_data_and_save_npy(\"/content/Training_PTB/\", scored_classes, dest_path, \"ptbdiag\")"
      ],
      "metadata": {
        "colab": {
          "base_uri": "https://localhost:8080/"
        },
        "id": "wVv6FM0djIGH",
        "outputId": "e44d7055-c17c-4cd5-ff06-d1f722e90e5c"
      },
      "execution_count": 51,
      "outputs": [
        {
          "output_type": "stream",
          "name": "stderr",
          "text": [
            "100%|██████████| 1032/1032 [00:08<00:00, 117.15it/s]\n"
          ]
        }
      ]
    },
    {
      "cell_type": "code",
      "source": [
        "test_data = np.load(\"/content/y_data_ningbo.npy\")"
      ],
      "metadata": {
        "id": "rFRCAJ8cfMPQ"
      },
      "execution_count": 73,
      "outputs": []
    },
    {
      "cell_type": "code",
      "source": [
        "from google.colab import drive\n",
        "drive.mount('/content/drive')"
      ],
      "metadata": {
        "id": "eILoNeV6kxim"
      },
      "execution_count": null,
      "outputs": []
    },
    {
      "cell_type": "code",
      "source": [
        "plt.plot(test_data[4,1,:])"
      ],
      "metadata": {
        "colab": {
          "base_uri": "https://localhost:8080/",
          "height": 447
        },
        "id": "C40IuGR6fSkp",
        "outputId": "c4c03bfb-cd6a-4c0d-924b-6164a24b030e"
      },
      "execution_count": 43,
      "outputs": [
        {
          "output_type": "execute_result",
          "data": {
            "text/plain": [
              "[<matplotlib.lines.Line2D at 0x7bc599e1bf10>]"
            ]
          },
          "metadata": {},
          "execution_count": 43
        },
        {
          "output_type": "display_data",
          "data": {
            "text/plain": [
              "<Figure size 640x480 with 1 Axes>"
            ],
            "image/png": "[encoded data removed]"
          },
          "metadata": {}
        }
      ]
    },
    {
      "cell_type": "code",
      "metadata": {
        "colab": {
          "base_uri": "https://localhost:8080/"
        },
        "id": "oC5Oc1l5ns55",
        "outputId": "b8a63b19-01b5-4f68-9ac2-45a8d8851522"
      },
      "source": [
        "def import_key_data(path):\n",
        "  gender=[]\n",
        "  age=[]\n",
        "  labels=[]\n",
        "  ecg_filenames=[]\n",
        "  for ecgfilename in tqdm.tqdm(sorted(os.listdir(path))):\n",
        "      if ecgfilename.endswith(\".mat\"):\n",
        "          data, header_data = load_challenge_data(path + ecgfilename)\n",
        "          labels.append(header_data[15][5:-1])\n",
        "          ecg_filenames.append(path + ecgfilename)\n",
        "          gender.append(header_data[14][6:-1])\n",
        "          age.append(header_data[13][6:-1])\n",
        "  return gender, age, labels, ecg_filenames\n",
        "\n",
        "gender_temp, age_temp, labels_temp, ecg_filenames = import_key_data()\n",
        "ecg_filenames = np.asarray(ecg_filenames)"
      ],
      "execution_count": null,
      "outputs": [
        {
          "output_type": "stream",
          "text": [
            "100%|██████████| 176506/176506 [02:06<00:00, 1395.49it/s]\n"
          ],
          "name": "stderr"
        }
      ]
    },
    {
      "cell_type": "markdown",
      "metadata": {
        "id": "egs5xnc94a0h"
      },
      "source": [
        "From the figure under we can se that the signals varies, but most of the signals are around 5000 samples long"
      ]
    },
    {
      "cell_type": "markdown",
      "metadata": {
        "id": "7vsbW4ws4iSt"
      },
      "source": [
        "From the header file we have access to gender and age from each patient"
      ]
    },
    {
      "cell_type": "code",
      "metadata": {
        "colab": {
          "base_uri": "https://localhost:8080/"
        },
        "id": "B2-Mhmj1pAzS",
        "outputId": "7cbbcab0-17ec-4192-d319-b951df676548"
      },
      "source": [
        "def clean_gender_data(gender):\n",
        "  gender = np.asarray(gender)\n",
        "  gender[np.where(gender == \"Male\")] = 0\n",
        "  gender[np.where(gender == \"male\")] = 0\n",
        "  gender[np.where(gender == \"M\")] = 0\n",
        "  gender[np.where(gender == \"Female\")] = 1\n",
        "  gender[np.where(gender == \"female\")] = 1\n",
        "  gender[np.where(gender == \"F\")] = 1\n",
        "  gender[np.where(gender == \"NaN\")] = 2\n",
        "  gender[np.where(gender == \"Unknown\")] = 2\n",
        "  np.unique(gender)\n",
        "  gender = gender.astype(np.int)\n",
        "  return gender\n",
        "gender_temp_binary = clean_gender_data(gender_temp)\n",
        "gender_temp_binary.shape"
      ],
      "execution_count": null,
      "outputs": [
        {
          "output_type": "execute_result",
          "data": {
            "text/plain": [
              "(88253,)"
            ]
          },
          "metadata": {},
          "execution_count": 25
        }
      ]
    },
    {
      "cell_type": "code",
      "metadata": {
        "colab": {
          "base_uri": "https://localhost:8080/"
        },
        "id": "2JCBPzaRU6Za",
        "outputId": "6355e9ed-f9ff-4f18-806f-efe6496b64e2"
      },
      "source": [
        "def clean_age_data(age):\n",
        "  age = np.asarray(age)\n",
        "  age[np.where(age == \"NaN\")] = -1\n",
        "  np.unique(age)\n",
        "  age = age.astype(np.int)\n",
        "  return age\n",
        "age_temp_clean = clean_age_data(age_temp)\n",
        "age_temp_clean.shape"
      ],
      "execution_count": null,
      "outputs": [
        {
          "output_type": "execute_result",
          "data": {
            "text/plain": [
              "(88253,)"
            ]
          },
          "metadata": {},
          "execution_count": 26
        }
      ]
    },
    {
      "cell_type": "markdown",
      "metadata": {
        "id": "BAAL8O6KxZIn"
      },
      "source": [
        "# Visualize data"
      ]
    },
    {
      "cell_type": "code",
      "metadata": {
        "id": "BIh59fVY9SOp"
      },
      "source": [
        "def abbrev(snomed_classes):\n",
        "  SNOMED_scored = pd.read_csv(\"/content/dx_mapping_scored.csv\", sep=\",\")\n",
        "  snomed_abbr = []\n",
        "  for j in range(len(snomed_classes)):\n",
        "      for i in range(len(SNOMED_scored.iloc[:,1])):\n",
        "          if (str(SNOMED_scored.iloc[:,1][i]) == snomed_classes[j]):\n",
        "              snomed_abbr.append(SNOMED_scored.iloc[:,0][i])\n",
        "\n",
        "  snomed_abbr = np.asarray(snomed_abbr)\n",
        "  return snomed_abbr"
      ],
      "execution_count": null,
      "outputs": []
    },
    {
      "cell_type": "code",
      "metadata": {
        "id": "02yhx6mM90F0"
      },
      "source": [
        "abbr = abbrev(scored_classes)"
      ],
      "execution_count": null,
      "outputs": []
    }
  ]
}